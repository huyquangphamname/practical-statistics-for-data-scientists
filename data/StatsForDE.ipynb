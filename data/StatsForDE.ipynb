{
 "cells": [
  {
   "cell_type": "markdown",
   "id": "38752cc4-7ab2-40dc-9a14-3e15ccebb5c8",
   "metadata": {},
   "source": [
    "#### Location Estimate of Population adn Murder Rates\n",
    "Compute mean and median in Python use `pandas` methods of the data frame.\n",
    "The trimmed meand requires the ````trim_mean```` funtion in ````scipy.stats````"
   ]
  },
  {
   "cell_type": "code",
   "execution_count": null,
   "id": "00a998c6-1588-4c4d-ae28-bf8df4e3e1a8",
   "metadata": {},
   "outputs": [],
   "source": [
    "import pandas as pd\n",
    "\n",
    "state = pd.read_csv('state.csv')\n",
    "state['Population'].mean()\n",
    "trim_mean(state['Population'], 0.1)\n",
    "state['Population'].median()"
   ]
  },
  {
   "cell_type": "code",
   "execution_count": null,
   "id": "e00905d0-16cb-41e1-9f35-df0b702b1121",
   "metadata": {},
   "outputs": [],
   "source": [
    "import numpy"
   ]
  },
  {
   "cell_type": "markdown",
   "id": "75f984ef-18a0-4ea0-95e8-3331863154fa",
   "metadata": {},
   "source": [
    "Compute the average murder rate for the country, we need to use a weighted mean or median to account for different populations in the states.\n",
    "Weighted mean is available with `NumPy`. For weighted median, we can use the specialized package <u>wquantiles</u>:\n",
    "\n"
   ]
  },
  {
   "cell_type": "code",
   "execution_count": null,
   "id": "eff59675-962f-4f54-9dff-2e39122d4e55",
   "metadata": {},
   "outputs": [],
   "source": [
    "np.average(state['Murder.Rate'], weights=state['Population'])\n",
    "wquantiles.median(state['Murder.Rate'], weights=state['Population'])"
   ]
  },
  {
   "cell_type": "code",
   "execution_count": null,
   "id": "940b585c-fa81-4f8d-85b4-e67cd15975c2",
   "metadata": {},
   "outputs": [],
   "source": []
  }
 ],
 "metadata": {
  "kernelspec": {
   "display_name": "Python 3 (ipykernel)",
   "language": "python",
   "name": "python3"
  },
  "language_info": {
   "name": ""
  }
 },
 "nbformat": 4,
 "nbformat_minor": 5
}
